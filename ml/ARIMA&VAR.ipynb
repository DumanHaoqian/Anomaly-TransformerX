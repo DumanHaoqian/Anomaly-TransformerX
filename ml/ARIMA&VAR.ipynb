{
  "cells": [
    {
      "cell_type": "code",
      "execution_count": 3,
      "metadata": {
        "id": "_z_w-f-dWSin"
      },
      "outputs": [],
      "source": [
        "import numpy as np\n",
        "import pandas as pd\n",
        "from statsmodels.tsa.arima.model import ARIMA\n",
        "from statsmodels.tsa.api import VAR\n",
        "from sklearn.metrics import mean_squared_error\n",
        "from sklearn.preprocessing import StandardScaler\n",
        "from sklearn.metrics import precision_score, recall_score, f1_score, confusion_matrix\n",
        "#import matplotlib.pyplot as plt\n",
        "\n",
        "#from pmdarima import auto_arima\n",
        "from joblib import Parallel, delayed\n",
        "from sklearn.metrics import (precision_score, recall_score,\n",
        "                           f1_score, roc_auc_score, confusion_matrix)\n",
        "import matplotlib.pyplot as plt\n",
        "import warnings\n",
        "warnings.filterwarnings('ignore')"
      ]
    },
    {
      "cell_type": "markdown",
      "metadata": {
        "id": "yQpapYKyFZhH"
      },
      "source": [
        "# Fusion"
      ]
    },
    {
      "cell_type": "code",
      "execution_count": 4,
      "metadata": {
        "id": "q-C7lfqxWbtz"
      },
      "outputs": [],
      "source": [
        "fusion_test = np.load('/home/haoqian/anomaly/features/fusion/fusion_test.npy')\n",
        "fusion_train = np.load('/home/haoqian/anomaly/features/fusion/fusion_train.npy')\n",
        "label = np.load('/home/haoqian/anomaly/SMD/SMD_test_label.npy')"
      ]
    },
    {
      "cell_type": "code",
      "execution_count": 5,
      "metadata": {
        "id": "omDonvoLvhx5"
      },
      "outputs": [],
      "source": [
        "# Subsample\n",
        "def fixed_interval_sampling(data, interval=360):\n",
        "    \"\"\"\n",
        "    Fixed-interval sampling with the same start point for all features.\n",
        "    Interval: 360 => 4 samples/day (if data is 10-min frequency)\n",
        "    \"\"\"\n",
        "    n_samples, n_features = data.shape\n",
        "    max_samples = n_samples // interval\n",
        "    sampled_data = np.zeros((max_samples, n_features))\n",
        "    start = np.random.randint(0, interval)\n",
        "    indices = np.arange(start, start + max_samples * interval, interval)\n",
        "    indices = np.clip(indices, 0, n_samples - 1)\n",
        "    sampled_data = data[indices, :]\n",
        "    return sampled_data, start"
      ]
    },
    {
      "cell_type": "code",
      "execution_count": 6,
      "metadata": {
        "id": "oDMpvQcyt26T"
      },
      "outputs": [],
      "source": [
        "interval = 360\n",
        "fusion_all = np.concatenate([fusion_train, fusion_test], axis=0)\n",
        "fusion_all_samples, start = fixed_interval_sampling(fusion_all, interval)\n",
        "n_train_samples = (fusion_train.shape[0] - start - 1) // interval + 1\n",
        "#train\n",
        "sampled_train = fusion_all_samples[:n_train_samples]\n",
        "#test\n",
        "sampled_test = fusion_all_samples[n_train_samples:]\n",
        "#label\n",
        "start_label=start+n_train_samples*interval-fusion_train.shape[0]\n",
        "indices = np.arange(start_label, len(label), interval)\n",
        "indices = np.clip(indices, 0, len(label) - 1)\n",
        "sampled_labels = label[indices]\n",
        "if len(sampled_labels) > sampled_test.shape[0]:\n",
        "    sampled_labels = sampled_labels[:sampled_test.shape[0]]\n",
        "elif len(sampled_labels) < sampled_test.shape[0]:\n",
        "    sampled_labels = np.pad(sampled_labels, (0, sampled_test.shape[0] - len(sampled_labels)), mode='edge')"
      ]
    },
    {
      "cell_type": "markdown",
      "metadata": {
        "id": "AJIagPJvEfq9"
      },
      "source": [
        "## ARIMA"
      ]
    },
    {
      "cell_type": "code",
      "execution_count": 7,
      "metadata": {
        "colab": {
          "base_uri": "https://localhost:8080/"
        },
        "id": "7CDkjzWRkStz",
        "outputId": "74a4c3ef-4511-43c9-a72f-12b8260b9d50"
      },
      "outputs": [
        {
          "name": "stdout",
          "output_type": "stream",
          "text": [
            "Training ARIMA models with manual grid search (d=1)...\n"
          ]
        },
        {
          "name": "stderr",
          "output_type": "stream",
          "text": [
            "/home/haoqian/anaconda3/envs/golden/lib/python3.11/site-packages/statsmodels/tsa/statespace/sarimax.py:978: UserWarning: Non-invertible starting MA parameters found. Using zeros as starting parameters.\n",
            "  warn('Non-invertible starting MA parameters found.'\n",
            "/home/haoqian/anaconda3/envs/golden/lib/python3.11/site-packages/statsmodels/tsa/statespace/sarimax.py:978: UserWarning: Non-invertible starting MA parameters found. Using zeros as starting parameters.\n",
            "  warn('Non-invertible starting MA parameters found.'\n",
            "/home/haoqian/anaconda3/envs/golden/lib/python3.11/site-packages/statsmodels/tsa/statespace/sarimax.py:978: UserWarning: Non-invertible starting MA parameters found. Using zeros as starting parameters.\n",
            "  warn('Non-invertible starting MA parameters found.'\n",
            "/home/haoqian/anaconda3/envs/golden/lib/python3.11/site-packages/statsmodels/tsa/statespace/sarimax.py:978: UserWarning: Non-invertible starting MA parameters found. Using zeros as starting parameters.\n",
            "  warn('Non-invertible starting MA parameters found.'\n",
            "/home/haoqian/anaconda3/envs/golden/lib/python3.11/site-packages/statsmodels/tsa/statespace/sarimax.py:966: UserWarning: Non-stationary starting autoregressive parameters found. Using zeros as starting parameters.\n",
            "  warn('Non-stationary starting autoregressive parameters'\n",
            "/home/haoqian/anaconda3/envs/golden/lib/python3.11/site-packages/statsmodels/tsa/statespace/sarimax.py:966: UserWarning: Non-stationary starting autoregressive parameters found. Using zeros as starting parameters.\n",
            "  warn('Non-stationary starting autoregressive parameters'\n",
            "/home/haoqian/anaconda3/envs/golden/lib/python3.11/site-packages/statsmodels/tsa/statespace/sarimax.py:966: UserWarning: Non-stationary starting autoregressive parameters found. Using zeros as starting parameters.\n",
            "  warn('Non-stationary starting autoregressive parameters'\n",
            "/home/haoqian/anaconda3/envs/golden/lib/python3.11/site-packages/statsmodels/tsa/statespace/sarimax.py:966: UserWarning: Non-stationary starting autoregressive parameters found. Using zeros as starting parameters.\n",
            "  warn('Non-stationary starting autoregressive parameters'\n",
            "/home/haoqian/anaconda3/envs/golden/lib/python3.11/site-packages/statsmodels/base/model.py:607: ConvergenceWarning: Maximum Likelihood optimization failed to converge. Check mle_retvals\n",
            "  warnings.warn(\"Maximum Likelihood optimization failed to \"\n",
            "/home/haoqian/anaconda3/envs/golden/lib/python3.11/site-packages/statsmodels/base/model.py:607: ConvergenceWarning: Maximum Likelihood optimization failed to converge. Check mle_retvals\n",
            "  warnings.warn(\"Maximum Likelihood optimization failed to \"\n",
            "/home/haoqian/anaconda3/envs/golden/lib/python3.11/site-packages/statsmodels/base/model.py:607: ConvergenceWarning: Maximum Likelihood optimization failed to converge. Check mle_retvals\n",
            "  warnings.warn(\"Maximum Likelihood optimization failed to \"\n",
            "/home/haoqian/anaconda3/envs/golden/lib/python3.11/site-packages/statsmodels/base/model.py:607: ConvergenceWarning: Maximum Likelihood optimization failed to converge. Check mle_retvals\n",
            "  warnings.warn(\"Maximum Likelihood optimization failed to \"\n",
            "/home/haoqian/anaconda3/envs/golden/lib/python3.11/site-packages/statsmodels/base/model.py:607: ConvergenceWarning: Maximum Likelihood optimization failed to converge. Check mle_retvals\n",
            "  warnings.warn(\"Maximum Likelihood optimization failed to \"\n",
            "/home/haoqian/anaconda3/envs/golden/lib/python3.11/site-packages/statsmodels/base/model.py:607: ConvergenceWarning: Maximum Likelihood optimization failed to converge. Check mle_retvals\n",
            "  warnings.warn(\"Maximum Likelihood optimization failed to \"\n",
            "/home/haoqian/anaconda3/envs/golden/lib/python3.11/site-packages/statsmodels/base/model.py:607: ConvergenceWarning: Maximum Likelihood optimization failed to converge. Check mle_retvals\n",
            "  warnings.warn(\"Maximum Likelihood optimization failed to \"\n",
            "/home/haoqian/anaconda3/envs/golden/lib/python3.11/site-packages/statsmodels/base/model.py:607: ConvergenceWarning: Maximum Likelihood optimization failed to converge. Check mle_retvals\n",
            "  warnings.warn(\"Maximum Likelihood optimization failed to \"\n",
            "/home/haoqian/anaconda3/envs/golden/lib/python3.11/site-packages/statsmodels/base/model.py:607: ConvergenceWarning: Maximum Likelihood optimization failed to converge. Check mle_retvals\n",
            "  warnings.warn(\"Maximum Likelihood optimization failed to \"\n",
            "/home/haoqian/anaconda3/envs/golden/lib/python3.11/site-packages/statsmodels/base/model.py:607: ConvergenceWarning: Maximum Likelihood optimization failed to converge. Check mle_retvals\n",
            "  warnings.warn(\"Maximum Likelihood optimization failed to \"\n",
            "/home/haoqian/anaconda3/envs/golden/lib/python3.11/site-packages/statsmodels/base/model.py:607: ConvergenceWarning: Maximum Likelihood optimization failed to converge. Check mle_retvals\n",
            "  warnings.warn(\"Maximum Likelihood optimization failed to \"\n",
            "/home/haoqian/anaconda3/envs/golden/lib/python3.11/site-packages/statsmodels/tools/numdiff.py:251: RuntimeWarning: overflow encountered in divide\n",
            "  partials = [f(x+ih, *args, **kwargs).imag / epsilon[i]\n",
            "/home/haoqian/anaconda3/envs/golden/lib/python3.11/site-packages/statsmodels/base/model.py:607: ConvergenceWarning: Maximum Likelihood optimization failed to converge. Check mle_retvals\n",
            "  warnings.warn(\"Maximum Likelihood optimization failed to \"\n",
            "/home/haoqian/anaconda3/envs/golden/lib/python3.11/site-packages/statsmodels/base/model.py:607: ConvergenceWarning: Maximum Likelihood optimization failed to converge. Check mle_retvals\n",
            "  warnings.warn(\"Maximum Likelihood optimization failed to \"\n",
            "/home/haoqian/anaconda3/envs/golden/lib/python3.11/site-packages/statsmodels/base/model.py:607: ConvergenceWarning: Maximum Likelihood optimization failed to converge. Check mle_retvals\n",
            "  warnings.warn(\"Maximum Likelihood optimization failed to \"\n",
            "/home/haoqian/anaconda3/envs/golden/lib/python3.11/site-packages/statsmodels/base/model.py:607: ConvergenceWarning: Maximum Likelihood optimization failed to converge. Check mle_retvals\n",
            "  warnings.warn(\"Maximum Likelihood optimization failed to \"\n",
            "/home/haoqian/anaconda3/envs/golden/lib/python3.11/site-packages/statsmodels/base/model.py:607: ConvergenceWarning: Maximum Likelihood optimization failed to converge. Check mle_retvals\n",
            "  warnings.warn(\"Maximum Likelihood optimization failed to \"\n",
            "/home/haoqian/anaconda3/envs/golden/lib/python3.11/site-packages/statsmodels/base/model.py:607: ConvergenceWarning: Maximum Likelihood optimization failed to converge. Check mle_retvals\n",
            "  warnings.warn(\"Maximum Likelihood optimization failed to \"\n",
            "/home/haoqian/anaconda3/envs/golden/lib/python3.11/site-packages/statsmodels/base/model.py:607: ConvergenceWarning: Maximum Likelihood optimization failed to converge. Check mle_retvals\n",
            "  warnings.warn(\"Maximum Likelihood optimization failed to \"\n",
            "/home/haoqian/anaconda3/envs/golden/lib/python3.11/site-packages/statsmodels/base/model.py:607: ConvergenceWarning: Maximum Likelihood optimization failed to converge. Check mle_retvals\n",
            "  warnings.warn(\"Maximum Likelihood optimization failed to \"\n",
            "/home/haoqian/anaconda3/envs/golden/lib/python3.11/site-packages/statsmodels/base/model.py:607: ConvergenceWarning: Maximum Likelihood optimization failed to converge. Check mle_retvals\n",
            "  warnings.warn(\"Maximum Likelihood optimization failed to \"\n",
            "/home/haoqian/anaconda3/envs/golden/lib/python3.11/site-packages/statsmodels/base/model.py:607: ConvergenceWarning: Maximum Likelihood optimization failed to converge. Check mle_retvals\n",
            "  warnings.warn(\"Maximum Likelihood optimization failed to \"\n",
            "/home/haoqian/anaconda3/envs/golden/lib/python3.11/site-packages/statsmodels/base/model.py:607: ConvergenceWarning: Maximum Likelihood optimization failed to converge. Check mle_retvals\n",
            "  warnings.warn(\"Maximum Likelihood optimization failed to \"\n",
            "/home/haoqian/anaconda3/envs/golden/lib/python3.11/site-packages/statsmodels/base/model.py:607: ConvergenceWarning: Maximum Likelihood optimization failed to converge. Check mle_retvals\n",
            "  warnings.warn(\"Maximum Likelihood optimization failed to \"\n",
            "/home/haoqian/anaconda3/envs/golden/lib/python3.11/site-packages/statsmodels/base/model.py:607: ConvergenceWarning: Maximum Likelihood optimization failed to converge. Check mle_retvals\n",
            "  warnings.warn(\"Maximum Likelihood optimization failed to \"\n",
            "/home/haoqian/anaconda3/envs/golden/lib/python3.11/site-packages/statsmodels/base/model.py:607: ConvergenceWarning: Maximum Likelihood optimization failed to converge. Check mle_retvals\n",
            "  warnings.warn(\"Maximum Likelihood optimization failed to \"\n",
            "/home/haoqian/anaconda3/envs/golden/lib/python3.11/site-packages/statsmodels/base/model.py:607: ConvergenceWarning: Maximum Likelihood optimization failed to converge. Check mle_retvals\n",
            "  warnings.warn(\"Maximum Likelihood optimization failed to \"\n",
            "/home/haoqian/anaconda3/envs/golden/lib/python3.11/site-packages/statsmodels/base/model.py:607: ConvergenceWarning: Maximum Likelihood optimization failed to converge. Check mle_retvals\n",
            "  warnings.warn(\"Maximum Likelihood optimization failed to \"\n",
            "/home/haoqian/anaconda3/envs/golden/lib/python3.11/site-packages/statsmodels/base/model.py:607: ConvergenceWarning: Maximum Likelihood optimization failed to converge. Check mle_retvals\n",
            "  warnings.warn(\"Maximum Likelihood optimization failed to \"\n",
            "/home/haoqian/anaconda3/envs/golden/lib/python3.11/site-packages/statsmodels/base/model.py:607: ConvergenceWarning: Maximum Likelihood optimization failed to converge. Check mle_retvals\n",
            "  warnings.warn(\"Maximum Likelihood optimization failed to \"\n",
            "/home/haoqian/anaconda3/envs/golden/lib/python3.11/site-packages/statsmodels/base/model.py:607: ConvergenceWarning: Maximum Likelihood optimization failed to converge. Check mle_retvals\n",
            "  warnings.warn(\"Maximum Likelihood optimization failed to \"\n",
            "/home/haoqian/anaconda3/envs/golden/lib/python3.11/site-packages/statsmodels/base/model.py:607: ConvergenceWarning: Maximum Likelihood optimization failed to converge. Check mle_retvals\n",
            "  warnings.warn(\"Maximum Likelihood optimization failed to \"\n",
            "/home/haoqian/anaconda3/envs/golden/lib/python3.11/site-packages/statsmodels/base/model.py:607: ConvergenceWarning: Maximum Likelihood optimization failed to converge. Check mle_retvals\n",
            "  warnings.warn(\"Maximum Likelihood optimization failed to \"\n",
            "/home/haoqian/anaconda3/envs/golden/lib/python3.11/site-packages/statsmodels/base/model.py:607: ConvergenceWarning: Maximum Likelihood optimization failed to converge. Check mle_retvals\n",
            "  warnings.warn(\"Maximum Likelihood optimization failed to \"\n",
            "/home/haoqian/anaconda3/envs/golden/lib/python3.11/site-packages/statsmodels/base/model.py:607: ConvergenceWarning: Maximum Likelihood optimization failed to converge. Check mle_retvals\n",
            "  warnings.warn(\"Maximum Likelihood optimization failed to \"\n",
            "/home/haoqian/anaconda3/envs/golden/lib/python3.11/site-packages/statsmodels/base/model.py:607: ConvergenceWarning: Maximum Likelihood optimization failed to converge. Check mle_retvals\n",
            "  warnings.warn(\"Maximum Likelihood optimization failed to \"\n",
            "/home/haoqian/anaconda3/envs/golden/lib/python3.11/site-packages/statsmodels/base/model.py:607: ConvergenceWarning: Maximum Likelihood optimization failed to converge. Check mle_retvals\n",
            "  warnings.warn(\"Maximum Likelihood optimization failed to \"\n",
            "/home/haoqian/anaconda3/envs/golden/lib/python3.11/site-packages/statsmodels/base/model.py:607: ConvergenceWarning: Maximum Likelihood optimization failed to converge. Check mle_retvals\n",
            "  warnings.warn(\"Maximum Likelihood optimization failed to \"\n",
            "/home/haoqian/anaconda3/envs/golden/lib/python3.11/site-packages/statsmodels/base/model.py:607: ConvergenceWarning: Maximum Likelihood optimization failed to converge. Check mle_retvals\n",
            "  warnings.warn(\"Maximum Likelihood optimization failed to \"\n",
            "/home/haoqian/anaconda3/envs/golden/lib/python3.11/site-packages/statsmodels/base/model.py:607: ConvergenceWarning: Maximum Likelihood optimization failed to converge. Check mle_retvals\n",
            "  warnings.warn(\"Maximum Likelihood optimization failed to \"\n",
            "/home/haoqian/anaconda3/envs/golden/lib/python3.11/site-packages/statsmodels/base/model.py:607: ConvergenceWarning: Maximum Likelihood optimization failed to converge. Check mle_retvals\n",
            "  warnings.warn(\"Maximum Likelihood optimization failed to \"\n",
            "/home/haoqian/anaconda3/envs/golden/lib/python3.11/site-packages/statsmodels/base/model.py:607: ConvergenceWarning: Maximum Likelihood optimization failed to converge. Check mle_retvals\n",
            "  warnings.warn(\"Maximum Likelihood optimization failed to \"\n",
            "/home/haoqian/anaconda3/envs/golden/lib/python3.11/site-packages/statsmodels/base/model.py:607: ConvergenceWarning: Maximum Likelihood optimization failed to converge. Check mle_retvals\n",
            "  warnings.warn(\"Maximum Likelihood optimization failed to \"\n",
            "/home/haoqian/anaconda3/envs/golden/lib/python3.11/site-packages/statsmodels/base/model.py:607: ConvergenceWarning: Maximum Likelihood optimization failed to converge. Check mle_retvals\n",
            "  warnings.warn(\"Maximum Likelihood optimization failed to \"\n",
            "/home/haoqian/anaconda3/envs/golden/lib/python3.11/site-packages/statsmodels/base/model.py:607: ConvergenceWarning: Maximum Likelihood optimization failed to converge. Check mle_retvals\n",
            "  warnings.warn(\"Maximum Likelihood optimization failed to \"\n",
            "/home/haoqian/anaconda3/envs/golden/lib/python3.11/site-packages/statsmodels/base/model.py:607: ConvergenceWarning: Maximum Likelihood optimization failed to converge. Check mle_retvals\n",
            "  warnings.warn(\"Maximum Likelihood optimization failed to \"\n",
            "/home/haoqian/anaconda3/envs/golden/lib/python3.11/site-packages/statsmodels/base/model.py:607: ConvergenceWarning: Maximum Likelihood optimization failed to converge. Check mle_retvals\n",
            "  warnings.warn(\"Maximum Likelihood optimization failed to \"\n",
            "/home/haoqian/anaconda3/envs/golden/lib/python3.11/site-packages/statsmodels/base/model.py:607: ConvergenceWarning: Maximum Likelihood optimization failed to converge. Check mle_retvals\n",
            "  warnings.warn(\"Maximum Likelihood optimization failed to \"\n",
            "/home/haoqian/anaconda3/envs/golden/lib/python3.11/site-packages/statsmodels/base/model.py:607: ConvergenceWarning: Maximum Likelihood optimization failed to converge. Check mle_retvals\n",
            "  warnings.warn(\"Maximum Likelihood optimization failed to \"\n",
            "/home/haoqian/anaconda3/envs/golden/lib/python3.11/site-packages/statsmodels/base/model.py:607: ConvergenceWarning: Maximum Likelihood optimization failed to converge. Check mle_retvals\n",
            "  warnings.warn(\"Maximum Likelihood optimization failed to \"\n",
            "/home/haoqian/anaconda3/envs/golden/lib/python3.11/site-packages/statsmodels/base/model.py:607: ConvergenceWarning: Maximum Likelihood optimization failed to converge. Check mle_retvals\n",
            "  warnings.warn(\"Maximum Likelihood optimization failed to \"\n",
            "/home/haoqian/anaconda3/envs/golden/lib/python3.11/site-packages/statsmodels/base/model.py:607: ConvergenceWarning: Maximum Likelihood optimization failed to converge. Check mle_retvals\n",
            "  warnings.warn(\"Maximum Likelihood optimization failed to \"\n",
            "/home/haoqian/anaconda3/envs/golden/lib/python3.11/site-packages/statsmodels/base/model.py:607: ConvergenceWarning: Maximum Likelihood optimization failed to converge. Check mle_retvals\n",
            "  warnings.warn(\"Maximum Likelihood optimization failed to \"\n",
            "/home/haoqian/anaconda3/envs/golden/lib/python3.11/site-packages/statsmodels/base/model.py:607: ConvergenceWarning: Maximum Likelihood optimization failed to converge. Check mle_retvals\n",
            "  warnings.warn(\"Maximum Likelihood optimization failed to \"\n",
            "/home/haoqian/anaconda3/envs/golden/lib/python3.11/site-packages/statsmodels/base/model.py:607: ConvergenceWarning: Maximum Likelihood optimization failed to converge. Check mle_retvals\n",
            "  warnings.warn(\"Maximum Likelihood optimization failed to \"\n",
            "/home/haoqian/anaconda3/envs/golden/lib/python3.11/site-packages/statsmodels/base/model.py:607: ConvergenceWarning: Maximum Likelihood optimization failed to converge. Check mle_retvals\n",
            "  warnings.warn(\"Maximum Likelihood optimization failed to \"\n",
            "/home/haoqian/anaconda3/envs/golden/lib/python3.11/site-packages/statsmodels/base/model.py:607: ConvergenceWarning: Maximum Likelihood optimization failed to converge. Check mle_retvals\n",
            "  warnings.warn(\"Maximum Likelihood optimization failed to \"\n",
            "/home/haoqian/anaconda3/envs/golden/lib/python3.11/site-packages/statsmodels/base/model.py:607: ConvergenceWarning: Maximum Likelihood optimization failed to converge. Check mle_retvals\n",
            "  warnings.warn(\"Maximum Likelihood optimization failed to \"\n",
            "/home/haoqian/anaconda3/envs/golden/lib/python3.11/site-packages/statsmodels/base/model.py:607: ConvergenceWarning: Maximum Likelihood optimization failed to converge. Check mle_retvals\n",
            "  warnings.warn(\"Maximum Likelihood optimization failed to \"\n",
            "/home/haoqian/anaconda3/envs/golden/lib/python3.11/site-packages/statsmodels/base/model.py:607: ConvergenceWarning: Maximum Likelihood optimization failed to converge. Check mle_retvals\n",
            "  warnings.warn(\"Maximum Likelihood optimization failed to \"\n",
            "/home/haoqian/anaconda3/envs/golden/lib/python3.11/site-packages/statsmodels/base/model.py:607: ConvergenceWarning: Maximum Likelihood optimization failed to converge. Check mle_retvals\n",
            "  warnings.warn(\"Maximum Likelihood optimization failed to \"\n",
            "/home/haoqian/anaconda3/envs/golden/lib/python3.11/site-packages/statsmodels/base/model.py:607: ConvergenceWarning: Maximum Likelihood optimization failed to converge. Check mle_retvals\n",
            "  warnings.warn(\"Maximum Likelihood optimization failed to \"\n",
            "/home/haoqian/anaconda3/envs/golden/lib/python3.11/site-packages/statsmodels/base/model.py:607: ConvergenceWarning: Maximum Likelihood optimization failed to converge. Check mle_retvals\n",
            "  warnings.warn(\"Maximum Likelihood optimization failed to \"\n",
            "/home/haoqian/anaconda3/envs/golden/lib/python3.11/site-packages/statsmodels/base/model.py:607: ConvergenceWarning: Maximum Likelihood optimization failed to converge. Check mle_retvals\n",
            "  warnings.warn(\"Maximum Likelihood optimization failed to \"\n",
            "/home/haoqian/anaconda3/envs/golden/lib/python3.11/site-packages/statsmodels/base/model.py:607: ConvergenceWarning: Maximum Likelihood optimization failed to converge. Check mle_retvals\n",
            "  warnings.warn(\"Maximum Likelihood optimization failed to \"\n",
            "/home/haoqian/anaconda3/envs/golden/lib/python3.11/site-packages/statsmodels/base/model.py:607: ConvergenceWarning: Maximum Likelihood optimization failed to converge. Check mle_retvals\n",
            "  warnings.warn(\"Maximum Likelihood optimization failed to \"\n",
            "/home/haoqian/anaconda3/envs/golden/lib/python3.11/site-packages/statsmodels/base/model.py:607: ConvergenceWarning: Maximum Likelihood optimization failed to converge. Check mle_retvals\n",
            "  warnings.warn(\"Maximum Likelihood optimization failed to \"\n",
            "/home/haoqian/anaconda3/envs/golden/lib/python3.11/site-packages/statsmodels/base/model.py:607: ConvergenceWarning: Maximum Likelihood optimization failed to converge. Check mle_retvals\n",
            "  warnings.warn(\"Maximum Likelihood optimization failed to \"\n",
            "/home/haoqian/anaconda3/envs/golden/lib/python3.11/site-packages/statsmodels/base/model.py:607: ConvergenceWarning: Maximum Likelihood optimization failed to converge. Check mle_retvals\n",
            "  warnings.warn(\"Maximum Likelihood optimization failed to \"\n",
            "/home/haoqian/anaconda3/envs/golden/lib/python3.11/site-packages/statsmodels/base/model.py:607: ConvergenceWarning: Maximum Likelihood optimization failed to converge. Check mle_retvals\n",
            "  warnings.warn(\"Maximum Likelihood optimization failed to \"\n",
            "/home/haoqian/anaconda3/envs/golden/lib/python3.11/site-packages/statsmodels/base/model.py:607: ConvergenceWarning: Maximum Likelihood optimization failed to converge. Check mle_retvals\n",
            "  warnings.warn(\"Maximum Likelihood optimization failed to \"\n",
            "/home/haoqian/anaconda3/envs/golden/lib/python3.11/site-packages/statsmodels/base/model.py:607: ConvergenceWarning: Maximum Likelihood optimization failed to converge. Check mle_retvals\n",
            "  warnings.warn(\"Maximum Likelihood optimization failed to \"\n",
            "/home/haoqian/anaconda3/envs/golden/lib/python3.11/site-packages/statsmodels/base/model.py:607: ConvergenceWarning: Maximum Likelihood optimization failed to converge. Check mle_retvals\n",
            "  warnings.warn(\"Maximum Likelihood optimization failed to \"\n",
            "/home/haoqian/anaconda3/envs/golden/lib/python3.11/site-packages/statsmodels/base/model.py:607: ConvergenceWarning: Maximum Likelihood optimization failed to converge. Check mle_retvals\n",
            "  warnings.warn(\"Maximum Likelihood optimization failed to \"\n",
            "/home/haoqian/anaconda3/envs/golden/lib/python3.11/site-packages/statsmodels/base/model.py:607: ConvergenceWarning: Maximum Likelihood optimization failed to converge. Check mle_retvals\n",
            "  warnings.warn(\"Maximum Likelihood optimization failed to \"\n",
            "/home/haoqian/anaconda3/envs/golden/lib/python3.11/site-packages/statsmodels/base/model.py:607: ConvergenceWarning: Maximum Likelihood optimization failed to converge. Check mle_retvals\n",
            "  warnings.warn(\"Maximum Likelihood optimization failed to \"\n",
            "/home/haoqian/anaconda3/envs/golden/lib/python3.11/site-packages/statsmodels/base/model.py:607: ConvergenceWarning: Maximum Likelihood optimization failed to converge. Check mle_retvals\n",
            "  warnings.warn(\"Maximum Likelihood optimization failed to \"\n",
            "/home/haoqian/anaconda3/envs/golden/lib/python3.11/site-packages/statsmodels/base/model.py:607: ConvergenceWarning: Maximum Likelihood optimization failed to converge. Check mle_retvals\n",
            "  warnings.warn(\"Maximum Likelihood optimization failed to \"\n",
            "/home/haoqian/anaconda3/envs/golden/lib/python3.11/site-packages/statsmodels/base/model.py:607: ConvergenceWarning: Maximum Likelihood optimization failed to converge. Check mle_retvals\n",
            "  warnings.warn(\"Maximum Likelihood optimization failed to \"\n",
            "/home/haoqian/anaconda3/envs/golden/lib/python3.11/site-packages/statsmodels/base/model.py:607: ConvergenceWarning: Maximum Likelihood optimization failed to converge. Check mle_retvals\n",
            "  warnings.warn(\"Maximum Likelihood optimization failed to \"\n",
            "/home/haoqian/anaconda3/envs/golden/lib/python3.11/site-packages/statsmodels/base/model.py:607: ConvergenceWarning: Maximum Likelihood optimization failed to converge. Check mle_retvals\n",
            "  warnings.warn(\"Maximum Likelihood optimization failed to \"\n",
            "/home/haoqian/anaconda3/envs/golden/lib/python3.11/site-packages/statsmodels/base/model.py:607: ConvergenceWarning: Maximum Likelihood optimization failed to converge. Check mle_retvals\n",
            "  warnings.warn(\"Maximum Likelihood optimization failed to \"\n",
            "/home/haoqian/anaconda3/envs/golden/lib/python3.11/site-packages/statsmodels/base/model.py:607: ConvergenceWarning: Maximum Likelihood optimization failed to converge. Check mle_retvals\n",
            "  warnings.warn(\"Maximum Likelihood optimization failed to \"\n",
            "/home/haoqian/anaconda3/envs/golden/lib/python3.11/site-packages/statsmodels/base/model.py:607: ConvergenceWarning: Maximum Likelihood optimization failed to converge. Check mle_retvals\n",
            "  warnings.warn(\"Maximum Likelihood optimization failed to \"\n",
            "/home/haoqian/anaconda3/envs/golden/lib/python3.11/site-packages/statsmodels/base/model.py:607: ConvergenceWarning: Maximum Likelihood optimization failed to converge. Check mle_retvals\n",
            "  warnings.warn(\"Maximum Likelihood optimization failed to \"\n",
            "/home/haoqian/anaconda3/envs/golden/lib/python3.11/site-packages/statsmodels/base/model.py:607: ConvergenceWarning: Maximum Likelihood optimization failed to converge. Check mle_retvals\n",
            "  warnings.warn(\"Maximum Likelihood optimization failed to \"\n",
            "/home/haoqian/anaconda3/envs/golden/lib/python3.11/site-packages/statsmodels/base/model.py:607: ConvergenceWarning: Maximum Likelihood optimization failed to converge. Check mle_retvals\n",
            "  warnings.warn(\"Maximum Likelihood optimization failed to \"\n",
            "/home/haoqian/anaconda3/envs/golden/lib/python3.11/site-packages/statsmodels/base/model.py:607: ConvergenceWarning: Maximum Likelihood optimization failed to converge. Check mle_retvals\n",
            "  warnings.warn(\"Maximum Likelihood optimization failed to \"\n",
            "/home/haoqian/anaconda3/envs/golden/lib/python3.11/site-packages/statsmodels/base/model.py:607: ConvergenceWarning: Maximum Likelihood optimization failed to converge. Check mle_retvals\n",
            "  warnings.warn(\"Maximum Likelihood optimization failed to \"\n",
            "/home/haoqian/anaconda3/envs/golden/lib/python3.11/site-packages/statsmodels/base/model.py:607: ConvergenceWarning: Maximum Likelihood optimization failed to converge. Check mle_retvals\n",
            "  warnings.warn(\"Maximum Likelihood optimization failed to \"\n",
            "/home/haoqian/anaconda3/envs/golden/lib/python3.11/site-packages/statsmodels/base/model.py:607: ConvergenceWarning: Maximum Likelihood optimization failed to converge. Check mle_retvals\n",
            "  warnings.warn(\"Maximum Likelihood optimization failed to \"\n",
            "/home/haoqian/anaconda3/envs/golden/lib/python3.11/site-packages/statsmodels/base/model.py:607: ConvergenceWarning: Maximum Likelihood optimization failed to converge. Check mle_retvals\n",
            "  warnings.warn(\"Maximum Likelihood optimization failed to \"\n",
            "/home/haoqian/anaconda3/envs/golden/lib/python3.11/site-packages/statsmodels/base/model.py:607: ConvergenceWarning: Maximum Likelihood optimization failed to converge. Check mle_retvals\n",
            "  warnings.warn(\"Maximum Likelihood optimization failed to \"\n",
            "/home/haoqian/anaconda3/envs/golden/lib/python3.11/site-packages/statsmodels/base/model.py:607: ConvergenceWarning: Maximum Likelihood optimization failed to converge. Check mle_retvals\n",
            "  warnings.warn(\"Maximum Likelihood optimization failed to \"\n",
            "/home/haoqian/anaconda3/envs/golden/lib/python3.11/site-packages/statsmodels/base/model.py:607: ConvergenceWarning: Maximum Likelihood optimization failed to converge. Check mle_retvals\n",
            "  warnings.warn(\"Maximum Likelihood optimization failed to \"\n",
            "/home/haoqian/anaconda3/envs/golden/lib/python3.11/site-packages/statsmodels/base/model.py:607: ConvergenceWarning: Maximum Likelihood optimization failed to converge. Check mle_retvals\n",
            "  warnings.warn(\"Maximum Likelihood optimization failed to \"\n",
            "/home/haoqian/anaconda3/envs/golden/lib/python3.11/site-packages/statsmodels/base/model.py:607: ConvergenceWarning: Maximum Likelihood optimization failed to converge. Check mle_retvals\n",
            "  warnings.warn(\"Maximum Likelihood optimization failed to \"\n"
          ]
        }
      ],
      "source": [
        "def grid_search_arima(train_series, p_range=(1, 4), q_range=(1, 3), d=1):\n",
        "    best_aic = np.inf\n",
        "    best_order = (1, 1, 1)\n",
        "    best_model = ARIMA(train_series, order=(1,1,1)).fit()\n",
        "\n",
        "    for p in range(*p_range):\n",
        "        for q in range(*q_range):\n",
        "            try:\n",
        "                model = ARIMA(train_series, order=(p, d, q))\n",
        "                results = model.fit()\n",
        "                if results.aic < best_aic:\n",
        "                    best_aic = results.aic\n",
        "                    best_order = (p, d, q)\n",
        "                    best_model = results\n",
        "            except:\n",
        "                continue\n",
        "    return best_model, best_order\n",
        "\n",
        "def train_arima_for_feature(train_series, test_series):\n",
        "    model, order = grid_search_arima(train_series, d=1)  # fix d=1\n",
        "    forecast = model.forecast(steps=len(test_series))\n",
        "    errors = np.abs(test_series - forecast)\n",
        "    return {\n",
        "        'model': model,\n",
        "        'order': order,\n",
        "        'forecast': forecast,\n",
        "        'errors': errors\n",
        "    }\n",
        "print(\"Training ARIMA models with manual grid search (d=1)...\")\n",
        "arima_results = Parallel(n_jobs=4)(\n",
        "    delayed(train_arima_for_feature)(sampled_train[:, i], sampled_test[:, i])\n",
        "    for i in range(sampled_train.shape[1])\n",
        ")"
      ]
    },
    {
      "cell_type": "code",
      "execution_count": 8,
      "metadata": {
        "colab": {
          "base_uri": "https://localhost:8080/"
        },
        "id": "tVxQYECLkWsZ",
        "outputId": "c594391a-5611-48d5-fbaa-18b6a28ad3f2"
      },
      "outputs": [
        {
          "name": "stdout",
          "output_type": "stream",
          "text": [
            "Evaluating anomalies...\n",
            "\n",
            "=== Evaluation Results ===\n",
            "Precision: 0.1117\n",
            "Recall:    0.2750\n",
            "F1 Score:  0.1588\n",
            "ROC-AUC:   0.7153\n"
          ]
        }
      ],
      "source": [
        "def evaluate_anomalies(results, test_data, y_true):\n",
        "    all_errors = np.array([res['errors'] for res in results]).T\n",
        "    avg_errors = np.mean(all_errors, axis=1)\n",
        "    threshold = np.quantile(avg_errors, 0.9)\n",
        "\n",
        "    pred_labels = (avg_errors > threshold).astype(int)\n",
        "    return {\n",
        "        'precision': precision_score(y_true, pred_labels, zero_division=0),\n",
        "        'recall': recall_score(y_true, pred_labels),\n",
        "        'f1': f1_score(y_true, pred_labels),\n",
        "        'roc_auc': roc_auc_score(y_true, avg_errors),\n",
        "        'confusion_matrix': confusion_matrix(y_true, pred_labels),\n",
        "        'threshold': threshold,\n",
        "        'errors': avg_errors,\n",
        "        'true_labels': y_true\n",
        "    }\n",
        "\n",
        "print(\"Evaluating anomalies...\")\n",
        "eval_results = evaluate_anomalies(arima_results, sampled_test, sampled_labels)\n",
        "print(\"\\n=== Evaluation Results ===\")\n",
        "print(f\"Precision: {eval_results['precision']:.4f}\")\n",
        "print(f\"Recall:    {eval_results['recall']:.4f}\")\n",
        "print(f\"F1 Score:  {eval_results['f1']:.4f}\")\n",
        "print(f\"ROC-AUC:   {eval_results['roc_auc']:.4f}\")"
      ]
    },
    {
      "cell_type": "markdown",
      "metadata": {
        "id": "q8ncFrcnEbD6"
      },
      "source": [
        "## VAR"
      ]
    },
    {
      "cell_type": "code",
      "execution_count": 88,
      "metadata": {
        "colab": {
          "base_uri": "https://localhost:8080/"
        },
        "id": "tISf-ueaAugl",
        "outputId": "5e81a5e4-2dae-4624-f69d-94d991baaaff"
      },
      "outputs": [
        {
          "name": "stdout",
          "output_type": "stream",
          "text": [
            "Training VAR models with lag order selection...\n"
          ]
        }
      ],
      "source": [
        "def grid_search_var(train_data, max_lag=5):\n",
        "    \"\"\"\n",
        "    Grid search for optimal VAR lag order using AIC\n",
        "    Args:\n",
        "        train_data: Multivariate time series data (n_samples, n_features)\n",
        "        max_lag: Maximum lag order to consider\n",
        "    Returns:\n",
        "        best_model: Fitted VAR model with optimal lag\n",
        "        best_lag: Selected lag order\n",
        "    \"\"\"\n",
        "    best_aic = np.inf\n",
        "    best_lag = 1\n",
        "    model = VAR(train_data)\n",
        "    best_model = model.fit(best_lag)\n",
        "\n",
        "    for lag in range(1, max_lag+1):\n",
        "        try:\n",
        "            model = VAR(train_data)\n",
        "            results = model.fit(lag)\n",
        "            if results.aic < best_aic:\n",
        "                best_aic = results.aic\n",
        "                best_model = results\n",
        "                best_lag = lag\n",
        "        except:\n",
        "            continue\n",
        "\n",
        "    return best_model, best_lag\n",
        "\n",
        "def train_var_for_features(train_data, test_data):\n",
        "    \"\"\"\n",
        "    Train VAR model and make forecasts\n",
        "    Args:\n",
        "        train_data: Training data (n_samples, n_features)\n",
        "        test_data: Test data (n_samples, n_features)\n",
        "    Returns:\n",
        "        Dictionary containing model and evaluation metrics\n",
        "    \"\"\"\n",
        "    # Standardize data\n",
        "    scaler = StandardScaler()\n",
        "    train_scaled = scaler.fit_transform(train_data)\n",
        "    test_scaled = scaler.transform(test_data)\n",
        "\n",
        "    # Fit VAR model\n",
        "    model, lag = grid_search_var(train_scaled)\n",
        "\n",
        "    # Make forecasts\n",
        "    forecast_steps = len(test_data)\n",
        "    forecast = model.forecast(train_scaled[-lag:], steps=forecast_steps)\n",
        "    forecast = scaler.inverse_transform(forecast)  # Inverse scaling\n",
        "\n",
        "    # Calculate errors\n",
        "    errors = np.abs(test_data - forecast)\n",
        "\n",
        "    return {\n",
        "        'model': model,\n",
        "        'lag': lag,\n",
        "        'forecast': forecast,\n",
        "        'errors': errors,\n",
        "        'mse': mean_squared_error(test_data, forecast)\n",
        "    }\n",
        "print(\"Training VAR models with lag order selection...\")\n",
        "var_result = train_var_for_features(sampled_train, sampled_test)"
      ]
    },
    {
      "cell_type": "code",
      "execution_count": 91,
      "metadata": {
        "colab": {
          "base_uri": "https://localhost:8080/"
        },
        "id": "Jl5lJGQnD0Ea",
        "outputId": "b2ca48f9-9780-4a0b-ad71-904d6278110a"
      },
      "outputs": [
        {
          "name": "stdout",
          "output_type": "stream",
          "text": [
            "\n",
            "=== Evaluation Results ===\n",
            "Precision: 0.1320\n",
            "Recall:    0.3467\n",
            "F1 Score:  0.1912\n",
            "ROC-AUC:   0.7157\n"
          ]
        }
      ],
      "source": [
        "def evaluate_var_anomalies(var_result, test_data, y_true):\n",
        "    avg_errors = np.mean(var_result['errors'], axis=1)\n",
        "    threshold = np.quantile(avg_errors, 0.9)\n",
        "    pred_labels = (avg_errors > threshold).astype(int)\n",
        "    return {\n",
        "        'precision': precision_score(y_true, pred_labels, zero_division=0),\n",
        "        'recall': recall_score(y_true, pred_labels),\n",
        "        'f1': f1_score(y_true, pred_labels),\n",
        "        'roc_auc': roc_auc_score(y_true, avg_errors),\n",
        "        'confusion_matrix': confusion_matrix(y_true, pred_labels),\n",
        "        'threshold': threshold,\n",
        "        'errors': avg_errors,\n",
        "        'true_labels': y_true\n",
        "    }\n",
        "var_eval = evaluate_var_anomalies(\n",
        "    var_result=var_result,\n",
        "    test_data=sampled_test,\n",
        "    y_true=sampled_labels\n",
        ")\n",
        "print(\"\\n=== Evaluation Results ===\")\n",
        "print(f\"Precision: {var_eval['precision']:.4f}\")\n",
        "print(f\"Recall:    {var_eval['recall']:.4f}\")\n",
        "print(f\"F1 Score:  {var_eval['f1']:.4f}\")\n",
        "print(f\"ROC-AUC:   {var_eval['roc_auc']:.4f}\")"
      ]
    },
    {
      "cell_type": "markdown",
      "metadata": {
        "id": "zNf97Rn5Fdp9"
      },
      "source": [
        "# Original"
      ]
    },
    {
      "cell_type": "code",
      "execution_count": 92,
      "metadata": {
        "id": "wCLNgf25Fg3c"
      },
      "outputs": [],
      "source": [
        "SMD_test = np.load('/content/drive/MyDrive/fusion/SMD_test.npy')\n",
        "SMD_train = np.load('/content/drive/MyDrive/fusion/SMD_train.npy')\n",
        "label = np.load('/content/drive/MyDrive/fusion/SMD_test_label.npy')"
      ]
    },
    {
      "cell_type": "code",
      "execution_count": 94,
      "metadata": {
        "id": "-c2anmtzF1GP"
      },
      "outputs": [],
      "source": [
        "interval = 360\n",
        "SMD_all = np.concatenate([SMD_train, SMD_test], axis=0)\n",
        "SMD_all_samples, start = fixed_interval_sampling(SMD_all, interval)\n",
        "n_train_samples = (SMD_train.shape[0] - start - 1) // interval + 1\n",
        "#train\n",
        "sampled_train = SMD_all_samples[:n_train_samples]\n",
        "#test\n",
        "sampled_test = SMD_all_samples[n_train_samples:]\n",
        "#label\n",
        "start_label=start+n_train_samples*interval-SMD_train.shape[0]\n",
        "indices = np.arange(start_label, len(label), interval)\n",
        "indices = np.clip(indices, 0, len(label) - 1)\n",
        "sampled_labels = label[indices]\n",
        "if len(sampled_labels) > sampled_test.shape[0]:\n",
        "    sampled_labels = sampled_labels[:sampled_test.shape[0]]\n",
        "elif len(sampled_labels) < sampled_test.shape[0]:\n",
        "    sampled_labels = np.pad(sampled_labels, (0, sampled_test.shape[0] - len(sampled_labels)), mode='edge')"
      ]
    },
    {
      "cell_type": "markdown",
      "metadata": {
        "id": "QaCpQRY-GhxM"
      },
      "source": [
        "## ARIMA"
      ]
    },
    {
      "cell_type": "code",
      "execution_count": 95,
      "metadata": {
        "colab": {
          "base_uri": "https://localhost:8080/"
        },
        "id": "Kl2LX0ysGjkN",
        "outputId": "c6466fa2-b637-428f-fb24-8351e63a8142"
      },
      "outputs": [
        {
          "name": "stdout",
          "output_type": "stream",
          "text": [
            "Training ARIMA models with manual grid search (d=1)...\n"
          ]
        }
      ],
      "source": [
        "print(\"Training ARIMA models with manual grid search (d=1)...\")\n",
        "arima_results = Parallel(n_jobs=4)(\n",
        "    delayed(train_arima_for_feature)(sampled_train[:, i], sampled_test[:, i])\n",
        "    for i in range(sampled_train.shape[1])\n",
        ")"
      ]
    },
    {
      "cell_type": "code",
      "execution_count": 96,
      "metadata": {
        "colab": {
          "base_uri": "https://localhost:8080/"
        },
        "id": "R7E_-iQHGypF",
        "outputId": "e8d8c53c-f69c-4ed2-aca2-b85e2b278073"
      },
      "outputs": [
        {
          "name": "stdout",
          "output_type": "stream",
          "text": [
            "Evaluating anomalies...\n",
            "\n",
            "=== Original ARIMA Evaluation Results ===\n",
            "Precision: 0.0964\n",
            "Recall:    0.2184\n",
            "F1 Score:  0.1338\n",
            "ROC-AUC:   0.6185\n"
          ]
        }
      ],
      "source": [
        "print(\"Evaluating anomalies...\")\n",
        "eval_results = evaluate_anomalies(arima_results, sampled_test, sampled_labels)\n",
        "print(\"\\n=== Original ARIMA Evaluation Results ===\")\n",
        "print(f\"Precision: {eval_results['precision']:.4f}\")\n",
        "print(f\"Recall:    {eval_results['recall']:.4f}\")\n",
        "print(f\"F1 Score:  {eval_results['f1']:.4f}\")\n",
        "print(f\"ROC-AUC:   {eval_results['roc_auc']:.4f}\")"
      ]
    },
    {
      "cell_type": "markdown",
      "metadata": {
        "id": "ojrGAVIJGkJu"
      },
      "source": [
        "## VAR"
      ]
    },
    {
      "cell_type": "code",
      "execution_count": 97,
      "metadata": {
        "colab": {
          "base_uri": "https://localhost:8080/"
        },
        "id": "AyKk_L6lGmwp",
        "outputId": "8a8f4e69-ca6e-4109-aa9a-712906c7a8c1"
      },
      "outputs": [
        {
          "name": "stdout",
          "output_type": "stream",
          "text": [
            "Training VAR models with lag order selection...\n"
          ]
        }
      ],
      "source": [
        "print(\"Training VAR models with lag order selection...\")\n",
        "var_result = train_var_for_features(sampled_train, sampled_test)"
      ]
    },
    {
      "cell_type": "code",
      "execution_count": 98,
      "metadata": {
        "colab": {
          "base_uri": "https://localhost:8080/"
        },
        "id": "KRnfndSWG9hK",
        "outputId": "1638558c-b14c-465f-ab82-02e343d7f9c1"
      },
      "outputs": [
        {
          "name": "stdout",
          "output_type": "stream",
          "text": [
            "\n",
            "=== ORIGINAL VAR Evaluation Results ===\n",
            "Precision: 0.1066\n",
            "Recall:    0.2414\n",
            "F1 Score:  0.1479\n",
            "ROC-AUC:   0.6053\n"
          ]
        }
      ],
      "source": [
        "var_eval = evaluate_var_anomalies(\n",
        "    var_result=var_result,\n",
        "    test_data=sampled_test,\n",
        "    y_true=sampled_labels\n",
        ")\n",
        "print(\"\\n=== ORIGINAL VAR Evaluation Results ===\")\n",
        "print(f\"Precision: {var_eval['precision']:.4f}\")\n",
        "print(f\"Recall:    {var_eval['recall']:.4f}\")\n",
        "print(f\"F1 Score:  {var_eval['f1']:.4f}\")\n",
        "print(f\"ROC-AUC:   {var_eval['roc_auc']:.4f}\")"
      ]
    }
  ],
  "metadata": {
    "colab": {
      "provenance": []
    },
    "kernelspec": {
      "display_name": "Python 3",
      "name": "python3"
    },
    "language_info": {
      "codemirror_mode": {
        "name": "ipython",
        "version": 3
      },
      "file_extension": ".py",
      "mimetype": "text/x-python",
      "name": "python",
      "nbconvert_exporter": "python",
      "pygments_lexer": "ipython3",
      "version": "3.11.11"
    }
  },
  "nbformat": 4,
  "nbformat_minor": 0
}
